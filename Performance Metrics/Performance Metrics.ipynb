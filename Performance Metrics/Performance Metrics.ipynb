{
 "cells": [
  {
   "cell_type": "code",
   "execution_count": null,
   "metadata": {},
   "outputs": [],
   "source": [
    "import pandas as pd\n",
    "import pandas_datareader.data as pdr\n",
    "from datetime import datetime\n",
    "from datetime import date\n",
    "from datetime import timedelta\n",
    "import math"
   ]
  },
  {
   "cell_type": "code",
   "execution_count": null,
   "metadata": {},
   "outputs": [],
   "source": [
    "start = datetime(1900, 1, 1)\n",
    "end = datetime.now()\n",
    "sp500 = pdr.get_data_yahoo('^GSPC',start,end,interval='d')\n",
    "sp500"
   ]
  },
  {
   "cell_type": "code",
   "execution_count": null,
   "metadata": {},
   "outputs": [],
   "source": [
    "sp500.columns"
   ]
  },
  {
   "cell_type": "code",
   "execution_count": null,
   "metadata": {},
   "outputs": [],
   "source": [
    "sp500.index.dtype"
   ]
  },
  {
   "cell_type": "code",
   "execution_count": null,
   "metadata": {},
   "outputs": [],
   "source": [
    "sp500_calculations = sp500[['Adj Close']]\n",
    "sp500_calculations = sp500_calculations.rename(columns={'Adj Close': 'value'})\n",
    "sp500_calculations['pct_change'] = sp500_calculations['value'].pct_change()\n",
    "sp500_calculations"
   ]
  },
  {
   "cell_type": "code",
   "execution_count": null,
   "metadata": {},
   "outputs": [],
   "source": [
    "sp500_calculations = sp500_calculations.copy()\n",
    "sp500_calculations[\"cum_return\"] = (1 + sp500_calculations[\"pct_change\"]).cumprod()\n",
    "sp500_calculations"
   ]
  },
  {
   "cell_type": "code",
   "execution_count": null,
   "metadata": {},
   "outputs": [],
   "source": [
    "total_ret = sp500_calculations['cum_return'][-1]\n",
    "start = datetime.utcfromtimestamp(sp500_calculations.index.values[0].astype('O')/1e9)\n",
    "end = datetime.utcfromtimestamp(sp500_calculations.index.values[-1].astype('O')/1e9)\n",
    "period_years = (end - start).days / 365.25\n",
    "period_years"
   ]
  },
  {
   "cell_type": "code",
   "execution_count": null,
   "metadata": {},
   "outputs": [],
   "source": [
    "CAGR = (total_ret)**(1/period_years) - 1\n",
    "CAGR"
   ]
  },
  {
   "cell_type": "code",
   "execution_count": null,
   "metadata": {},
   "outputs": [],
   "source": [
    "actions = pdr.DataReader('^GSPC', 'yahoo-actions', start, end)\n",
    "actions"
   ]
  },
  {
   "cell_type": "code",
   "execution_count": null,
   "metadata": {},
   "outputs": [],
   "source": [
    "# multpl.com\n",
    "sp500_dividend = pd.read_csv('data/multpl/s-p-500-dividend-yield.csv')\n",
    "sp500_dividend[:13]"
   ]
  },
  {
   "cell_type": "code",
   "execution_count": null,
   "metadata": {},
   "outputs": [],
   "source": [
    "sp500_dividend.dtypes"
   ]
  },
  {
   "cell_type": "code",
   "execution_count": null,
   "metadata": {},
   "outputs": [],
   "source": [
    "sp500_dividend['Date'] = sp500_dividend['Date'].astype('<M8[ns]')\n",
    "sp500_dividend.dtypes"
   ]
  },
  {
   "cell_type": "code",
   "execution_count": null,
   "metadata": {},
   "outputs": [],
   "source": [
    "sp500_dividend['Value'] = sp500_dividend['Value'].astype('float')\n",
    "sp500_dividend.dtypes"
   ]
  },
  {
   "cell_type": "code",
   "execution_count": null,
   "metadata": {},
   "outputs": [],
   "source": [
    "sp500_dividend['Value'] = sp500_dividend['Value'].str.replace('\\n\\nestimate', '').str.replace('%', '')\n",
    "sp500_dividend"
   ]
  },
  {
   "cell_type": "code",
   "execution_count": null,
   "metadata": {},
   "outputs": [],
   "source": [
    "sp500_dividend['Value'] = sp500_dividend['Value'].astype('float')\n",
    "sp500_dividend['Value'] = sp500_dividend['Value'] / 100\n",
    "sp500_dividend.dtypes"
   ]
  },
  {
   "cell_type": "code",
   "execution_count": null,
   "metadata": {},
   "outputs": [],
   "source": [
    "sp500_dividend"
   ]
  },
  {
   "cell_type": "code",
   "execution_count": null,
   "metadata": {},
   "outputs": [],
   "source": [
    "sp500_dividend = sp500_dividend.set_index('Date').rename(columns={'Value': 'dividend_yield'})\n",
    "sp500_dividend"
   ]
  },
  {
   "cell_type": "code",
   "execution_count": null,
   "metadata": {},
   "outputs": [],
   "source": [
    "sp500_dividend['dividend_yield'] = sp500_dividend['dividend_yield']/12\n",
    "sp500_dividend"
   ]
  },
  {
   "cell_type": "code",
   "execution_count": null,
   "metadata": {},
   "outputs": [],
   "source": [
    "sp500_monthly = sp500_calculations.resample('M').last()\n",
    "sp500_monthly[-13:]"
   ]
  },
  {
   "cell_type": "code",
   "execution_count": null,
   "metadata": {},
   "outputs": [],
   "source": [
    "sp500_monthly['pct_change'] = sp500_monthly['value'].pct_change()\n",
    "sp500_monthly"
   ]
  },
  {
   "cell_type": "code",
   "execution_count": null,
   "metadata": {},
   "outputs": [],
   "source": [
    "sp500_monthly = sp500_monthly.merge(sp500_dividend, left_index=True, right_index=True)\n",
    "sp500_monthly"
   ]
  },
  {
   "cell_type": "code",
   "execution_count": null,
   "metadata": {},
   "outputs": [],
   "source": [
    "sp500_monthly = sp500_monthly.drop(columns='cum_return')\n",
    "sp500_monthly"
   ]
  },
  {
   "cell_type": "code",
   "execution_count": null,
   "metadata": {},
   "outputs": [],
   "source": [
    "sp500_monthly['return'] = sp500_monthly['pct_change'] + sp500_monthly['dividend_yield']\n",
    "sp500_monthly"
   ]
  },
  {
   "cell_type": "code",
   "execution_count": null,
   "metadata": {},
   "outputs": [],
   "source": [
    "def cagr(_df):\n",
    "    df = _df.copy()\n",
    "    df = df.sort_index(ascending=True)\n",
    "    df[\"cum_return\"] = (1 + df[\"return\"]).cumprod()\n",
    "    total_ret = df['cum_return'][-1]\n",
    "    print(df)\n",
    "    start = datetime.utcfromtimestamp(df.index.values[0].astype('O')/1e9)\n",
    "    end = datetime.utcfromtimestamp(df.index.values[-1].astype('O')/1e9)\n",
    "    period_years = (end - start).days / 365.25\n",
    "    CAGR = (total_ret)**(1/period_years) - 1\n",
    "    return CAGR"
   ]
  },
  {
   "cell_type": "code",
   "execution_count": null,
   "metadata": {},
   "outputs": [],
   "source": [
    "cagr(sp500_monthly)"
   ]
  },
  {
   "cell_type": "code",
   "execution_count": null,
   "metadata": {},
   "outputs": [],
   "source": [
    "start = datetime.utcfromtimestamp(sp500_monthly.index.values[0].astype('O')/1e9)\n",
    "end = datetime.utcfromtimestamp(sp500_monthly.index.values[-1].astype('O')/1e9)\n",
    "period_years = (end - start).days / 365.25\n",
    "period_years"
   ]
  },
  {
   "cell_type": "code",
   "execution_count": null,
   "metadata": {},
   "outputs": [],
   "source": [
    "sp500_monthly['return'].count()"
   ]
  },
  {
   "cell_type": "code",
   "execution_count": null,
   "metadata": {},
   "outputs": [],
   "source": [
    "ratio_to_annual = sp500_monthly['return'].count() / period_years\n",
    "ratio_to_annual"
   ]
  },
  {
   "cell_type": "code",
   "execution_count": null,
   "metadata": {},
   "outputs": [],
   "source": [
    "sp500_monthly[\"return\"].std()"
   ]
  },
  {
   "cell_type": "code",
   "execution_count": null,
   "metadata": {},
   "outputs": [],
   "source": [
    "vol = sp500_monthly[\"return\"].std() * math.sqrt(ratio_to_annual)\n",
    "vol"
   ]
  },
  {
   "cell_type": "code",
   "execution_count": null,
   "metadata": {},
   "outputs": [],
   "source": [
    "def volatility(_df):\n",
    "    start = datetime.utcfromtimestamp(_df.index.values[0].astype('O')/1e9)\n",
    "    end = datetime.utcfromtimestamp(_df.index.values[-1].astype('O')/1e9)\n",
    "    period_years = (end - start).days / 365.25\n",
    "    ratio_to_annual = _df['return'].count() / period_years\n",
    "    vol = _df[\"return\"].std() * math.sqrt(ratio_to_annual)\n",
    "    return vol\n",
    "\n",
    "volatility(sp500_monthly)"
   ]
  },
  {
   "cell_type": "code",
   "execution_count": null,
   "metadata": {},
   "outputs": [],
   "source": [
    "def sharpe(_df, risk_free_rate):\n",
    "    ret = cagr(_df)\n",
    "    vol = volatility(_df)\n",
    "    sharpe = (ret - risk_free_rate) / vol\n",
    "    return sharpe\n",
    "\n",
    "sharpe(sp500_monthly, 0.02)"
   ]
  },
  {
   "cell_type": "code",
   "execution_count": null,
   "metadata": {},
   "outputs": [],
   "source": [
    "sp500_monthly"
   ]
  },
  {
   "cell_type": "code",
   "execution_count": null,
   "metadata": {},
   "outputs": [],
   "source": [
    "df = sp500_monthly.copy()\n",
    "df[\"cum_return\"] = (1 + df[\"return\"]).cumprod()\n",
    "df[\"cum_return_max\"] = df[\"cum_return\"].cummax()\n",
    "df[:20]"
   ]
  },
  {
   "cell_type": "code",
   "execution_count": null,
   "metadata": {},
   "outputs": [],
   "source": [
    "df[\"drawdown\"] = df[\"cum_return_max\"] - df[\"cum_return\"]\n",
    "df[\"drawdown_pct\"] = df[\"drawdown\"] / df[\"cum_return_max\"]\n",
    "max_dd = df[\"drawdown_pct\"].max()\n",
    "max_dd"
   ]
  },
  {
   "cell_type": "code",
   "execution_count": null,
   "metadata": {},
   "outputs": [],
   "source": [
    "df[45:60]"
   ]
  },
  {
   "cell_type": "code",
   "execution_count": null,
   "metadata": {},
   "outputs": [],
   "source": [
    "def max_drawdown(_df):\n",
    "    df = _df.copy()\n",
    "    df = df.sort_index(ascending=True)\n",
    "    df[\"cum_return\"] = (1 + df[\"return\"]).cumprod()\n",
    "    df[\"cum_return_max\"] = df[\"cum_return\"].cummax()\n",
    "    df[\"drawdown\"] = df[\"cum_return_max\"] - df[\"cum_return\"]\n",
    "    df[\"drawdown_pct\"] = df[\"drawdown\"] / df[\"cum_return_max\"]\n",
    "    max_dd = df.loc[df[\"drawdown_pct\"].idxmax()]\n",
    "    return {\n",
    "        'drawdown': max_dd['drawdown_pct'],\n",
    "        'date': max_dd.name\n",
    "    }\n",
    "\n",
    "max_drawdown(sp500_monthly)"
   ]
  },
  {
   "cell_type": "code",
   "execution_count": null,
   "metadata": {},
   "outputs": [],
   "source": []
  }
 ],
 "metadata": {
  "kernelspec": {
   "display_name": "Python 3",
   "language": "python",
   "name": "python3"
  },
  "language_info": {
   "codemirror_mode": {
    "name": "ipython",
    "version": 3
   },
   "file_extension": ".py",
   "mimetype": "text/x-python",
   "name": "python",
   "nbconvert_exporter": "python",
   "pygments_lexer": "ipython3",
   "version": "3.7.5"
  }
 },
 "nbformat": 4,
 "nbformat_minor": 2
}
