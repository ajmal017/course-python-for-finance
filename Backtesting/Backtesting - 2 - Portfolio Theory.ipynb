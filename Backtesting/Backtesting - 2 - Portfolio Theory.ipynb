{
 "cells": [
  {
   "cell_type": "code",
   "execution_count": null,
   "metadata": {},
   "outputs": [],
   "source": [
    "import pandas as pd\n",
    "import pandas_datareader.data as pdr\n",
    "from datetime import datetime\n",
    "from datetime import date\n",
    "from datetime import timedelta\n",
    "import math"
   ]
  },
  {
   "cell_type": "code",
   "execution_count": null,
   "metadata": {},
   "outputs": [],
   "source": [
    "# Step 1: Get and organize data\n",
    "# Step 2: Run algorithm\n",
    "# Step 3: Calculate/Analyze Return vs Benchmark(s)\n",
    "# Step 4: Test Inputs/Tweak Strategy"
   ]
  },
  {
   "cell_type": "code",
   "execution_count": null,
   "metadata": {},
   "outputs": [],
   "source": [
    "def cagr(_df):\n",
    "    df = _df.copy()\n",
    "    df = df.sort_index(ascending=True)\n",
    "    df[\"cum_return\"] = (1 + df[\"return\"]).cumprod()\n",
    "    total_ret = df['cum_return'][-1]\n",
    "    start = datetime.utcfromtimestamp(df.index.values[0].astype('O')/1e9)\n",
    "    end = datetime.utcfromtimestamp(df.index.values[-1].astype('O')/1e9)\n",
    "    period_years = (end - start).days / 365.25\n",
    "    CAGR = (total_ret)**(1/period_years) - 1\n",
    "    return CAGR"
   ]
  },
  {
   "cell_type": "code",
   "execution_count": null,
   "metadata": {},
   "outputs": [],
   "source": [
    "def volatility(_df):\n",
    "    start = datetime.utcfromtimestamp(_df.index.values[0].astype('O')/1e9)\n",
    "    end = datetime.utcfromtimestamp(_df.index.values[-1].astype('O')/1e9)\n",
    "    period_years = (end - start).days / 365.25\n",
    "    ratio_to_annual = _df['return'].count() / period_years\n",
    "    vol = _df[\"return\"].std() * math.sqrt(ratio_to_annual)\n",
    "    return vol"
   ]
  },
  {
   "cell_type": "code",
   "execution_count": null,
   "metadata": {},
   "outputs": [],
   "source": [
    "def sharpe(_df, risk_free_rate):\n",
    "    ret = cagr(_df)\n",
    "    vol = volatility(_df)\n",
    "    sharpe = (ret - risk_free_rate) / vol\n",
    "    return sharpe"
   ]
  },
  {
   "cell_type": "code",
   "execution_count": null,
   "metadata": {},
   "outputs": [],
   "source": [
    "def max_drawdown(_df):\n",
    "    df = _df.copy()\n",
    "    df = df.sort_index(ascending=True)\n",
    "    df[\"cum_return\"] = (1 + df[\"return\"]).cumprod()\n",
    "    df[\"cum_return_max\"] = df[\"cum_return\"].cummax()\n",
    "    df[\"drawdown\"] = df[\"cum_return_max\"] - df[\"cum_return\"]\n",
    "    df[\"drawdown_pct\"] = df[\"drawdown\"] / df[\"cum_return_max\"]\n",
    "    max_dd = df.loc[df[\"drawdown_pct\"].idxmax()]\n",
    "    return {\n",
    "        'drawdown': max_dd['drawdown_pct'],\n",
    "        'date': max_dd.name\n",
    "    }"
   ]
  },
  {
   "cell_type": "code",
   "execution_count": null,
   "metadata": {},
   "outputs": [],
   "source": [
    "# Step 1: Get and organize data\n",
    "\n",
    "start = datetime(1900, 1, 1)\n",
    "end = datetime.now()\n",
    "spy_daily = pdr.get_data_yahoo('SPY',start,end,interval='d')\n",
    "spy_daily = spy_daily[['Adj Close']].rename(columns={'Adj Close': 'price'})\n",
    "spy_daily"
   ]
  },
  {
   "cell_type": "code",
   "execution_count": null,
   "metadata": {},
   "outputs": [],
   "source": [
    "spy_actions = pdr.DataReader('SPY', 'yahoo-actions', start, end)\n",
    "spy_dividends = spy_actions[spy_actions['action'] == 'DIVIDEND']\n",
    "spy_dividends"
   ]
  },
  {
   "cell_type": "code",
   "execution_count": null,
   "metadata": {},
   "outputs": [],
   "source": [
    "spy_dividends = spy_dividends[['value']].rename(columns={'value': 'dividend'})\n",
    "spy_dividends"
   ]
  },
  {
   "cell_type": "code",
   "execution_count": null,
   "metadata": {},
   "outputs": [],
   "source": [
    "spy = spy_daily.merge(spy_dividends, left_index=True, right_index=True, how='outer')\n",
    "spy"
   ]
  },
  {
   "cell_type": "code",
   "execution_count": null,
   "metadata": {},
   "outputs": [],
   "source": [
    "spy[-70:-45]"
   ]
  },
  {
   "cell_type": "code",
   "execution_count": null,
   "metadata": {},
   "outputs": [],
   "source": [
    "spy['dividend'] = spy['dividend'].fillna(0)\n",
    "spy[-70:-55]"
   ]
  },
  {
   "cell_type": "code",
   "execution_count": null,
   "metadata": {},
   "outputs": [],
   "source": [
    "spy['price_change'] = spy['price'].pct_change()\n",
    "spy"
   ]
  },
  {
   "cell_type": "code",
   "execution_count": null,
   "metadata": {},
   "outputs": [],
   "source": [
    "spy['dividend_yield'] = spy['dividend'] / spy['price']\n",
    "spy"
   ]
  },
  {
   "cell_type": "code",
   "execution_count": null,
   "metadata": {},
   "outputs": [],
   "source": [
    "spy[-80:-55]"
   ]
  },
  {
   "cell_type": "code",
   "execution_count": null,
   "metadata": {},
   "outputs": [],
   "source": [
    "spy['return'] = spy['dividend_yield'] + spy['price_change']\n",
    "spy"
   ]
  },
  {
   "cell_type": "code",
   "execution_count": null,
   "metadata": {},
   "outputs": [],
   "source": [
    "cagr(spy)"
   ]
  },
  {
   "cell_type": "code",
   "execution_count": null,
   "metadata": {},
   "outputs": [],
   "source": [
    "def get_returns_for_asset(symbol, start = datetime(1900, 1, 1), end = datetime.now()):\n",
    "    daily = pdr.get_data_yahoo(symbol,start,end,interval='d')\n",
    "    daily = daily[['Adj Close']].rename(columns={'Adj Close': 'price'})\n",
    "    actions = pdr.DataReader(symbol, 'yahoo-actions', start, end)\n",
    "    dividends = actions[actions['action'] == 'DIVIDEND']\n",
    "    dividends = dividends[['value']].rename(columns={'value': 'dividend'})\n",
    "    df = daily.merge(dividends, left_index=True, right_index=True, how='outer')\n",
    "    df['dividend'] = df['dividend'].fillna(0)\n",
    "    df['price_change'] = df['price'].pct_change()\n",
    "    df['dividend_yield'] = df['dividend'] / df['price']\n",
    "    df['return'] = df['dividend_yield'] + df['price_change']\n",
    "    return df"
   ]
  },
  {
   "cell_type": "code",
   "execution_count": null,
   "metadata": {},
   "outputs": [],
   "source": [
    "portfolio = [\n",
    "    {\n",
    "        'symbol': 'SPY', # Stocks\n",
    "        'weight': 0.3\n",
    "    },\n",
    "    {\n",
    "        'symbol': 'TLT', # Long Term Bond\n",
    "        'weight': 0.4\n",
    "    },\n",
    "    {\n",
    "        'symbol': 'IEF', # Intermediate Term Bond\n",
    "        'weight': 0.15\n",
    "    },\n",
    "    {\n",
    "        'symbol': 'GLD', # Gold\n",
    "        'weight': 0.075\n",
    "    },\n",
    "    {\n",
    "        'symbol': 'DJP', # Commidities\n",
    "        'weight': 0.075\n",
    "    }\n",
    "]"
   ]
  },
  {
   "cell_type": "code",
   "execution_count": null,
   "metadata": {},
   "outputs": [],
   "source": [
    "for asset in portfolio:\n",
    "    returns = get_returns_for_asset(asset['symbol'])\n",
    "    asset['returns'] = returns\n",
    "    \n",
    "portfolio"
   ]
  },
  {
   "cell_type": "code",
   "execution_count": null,
   "metadata": {},
   "outputs": [],
   "source": [
    "portfolio_df = pd.DataFrame()\n",
    "\n",
    "for asset in portfolio:\n",
    "    returns = asset['returns']\n",
    "    for column in returns.columns:\n",
    "        column_name = \"{}_{}\".format(column, asset['symbol'])\n",
    "        print(column_name)\n",
    "        portfolio_df[column_name] = returns[column]\n",
    "            \n",
    "        \n",
    "portfolio_df = portfolio_df.dropna()\n",
    "portfolio_df"
   ]
  },
  {
   "cell_type": "code",
   "execution_count": null,
   "metadata": {},
   "outputs": [],
   "source": [
    "# Step 2: Run algorithm\n",
    "\n",
    "def get_returns_for_portfolio(_portfolio, _df):\n",
    "    df = _df.copy()\n",
    "    running_values = {}\n",
    "\n",
    "    total_value = previous_total = starting_value = 10000\n",
    "    for x in df.index:  \n",
    "        ser = df.loc[x]\n",
    "\n",
    "        # Calculate return\n",
    "        for asset in _portfolio:\n",
    "            symbol = asset['symbol']\n",
    "            col_name_price = \"price_{}\".format(symbol)\n",
    "            col_name_qty = \"quantity_{}\".format(symbol)\n",
    "            col_name_value = \"value_{}\".format(symbol)\n",
    "            col_name_dividend = \"dividend_{}\".format(symbol)\n",
    "\n",
    "            if symbol in running_values and 'qty' in running_values[symbol]:\n",
    "                qty = running_values[symbol]['qty']\n",
    "            else:\n",
    "                qty = 0\n",
    "\n",
    "            asset_price = ser[col_name_price]\n",
    "            asset_value = qty * asset_price\n",
    "            asset_dividend = qty * ser[col_name_dividend]\n",
    "            total_value += asset_value + asset_dividend\n",
    "\n",
    "            df.loc[x, col_name_qty] = qty\n",
    "            df.loc[x, col_name_value] = asset_value\n",
    "\n",
    "        # Calculate reinvestment\n",
    "        for asset in _portfolio:\n",
    "            symbol = asset['symbol']\n",
    "            col_name_price = \"price_{}\".format(symbol)\n",
    "            col_name_req_amt = \"required_amount_{}\".format(symbol)\n",
    "            col_name_req_qty = \"required_quantity_{}\".format(symbol)\n",
    "\n",
    "            asset_price = ser[col_name_price]\n",
    "            req_amt = asset['weight'] * total_value\n",
    "            req_qty = req_amt / asset_price\n",
    "\n",
    "            df.loc[x, col_name_req_amt] = req_amt\n",
    "            df.loc[x, col_name_req_qty] = req_qty\n",
    "\n",
    "            if symbol not in running_values:\n",
    "                running_values[symbol] = {}\n",
    "            running_values[symbol]['qty'] = req_qty\n",
    "\n",
    "        df.loc[x, 'total_value'] = total_value\n",
    "        previous_total = total_value\n",
    "        total_value = 0\n",
    "        \n",
    "    df['return'] = df['total_value'].pct_change()\n",
    "    return df\n",
    "\n",
    "\n",
    "all_weather_df = get_returns_for_portfolio(portfolio, portfolio_df)"
   ]
  },
  {
   "cell_type": "code",
   "execution_count": null,
   "metadata": {},
   "outputs": [],
   "source": [
    "all_weather_df"
   ]
  },
  {
   "cell_type": "code",
   "execution_count": null,
   "metadata": {},
   "outputs": [],
   "source": [
    "cagr(all_weather_df)"
   ]
  },
  {
   "cell_type": "code",
   "execution_count": null,
   "metadata": {},
   "outputs": [],
   "source": [
    "volatility(all_weather_df)"
   ]
  },
  {
   "cell_type": "code",
   "execution_count": null,
   "metadata": {},
   "outputs": [],
   "source": [
    "sharpe(all_weather_df, 0.02)"
   ]
  },
  {
   "cell_type": "code",
   "execution_count": null,
   "metadata": {},
   "outputs": [],
   "source": [
    "max_drawdown(all_weather_df)"
   ]
  },
  {
   "cell_type": "code",
   "execution_count": null,
   "metadata": {},
   "outputs": [],
   "source": [
    "# Step 3: Calculate/Analyze Return vs Benchmark(s)\n",
    "\n",
    "portfolio_only_spy = [\n",
    "    {\n",
    "        'symbol': 'SPY',\n",
    "        'weight': 1\n",
    "    }\n",
    "]\n",
    "\n",
    "only_spy_df = get_returns_for_portfolio(portfolio_only_spy, portfolio_df)"
   ]
  },
  {
   "cell_type": "code",
   "execution_count": null,
   "metadata": {},
   "outputs": [],
   "source": [
    "cagr(only_spy_df)"
   ]
  },
  {
   "cell_type": "code",
   "execution_count": null,
   "metadata": {},
   "outputs": [],
   "source": [
    "volatility(only_spy_df)"
   ]
  },
  {
   "cell_type": "code",
   "execution_count": null,
   "metadata": {},
   "outputs": [],
   "source": [
    "sharpe(only_spy_df, 0.02)"
   ]
  },
  {
   "cell_type": "code",
   "execution_count": null,
   "metadata": {},
   "outputs": [],
   "source": [
    "max_drawdown(only_spy_df)"
   ]
  },
  {
   "cell_type": "code",
   "execution_count": null,
   "metadata": {},
   "outputs": [],
   "source": [
    "frame = { \n",
    "    'All Weather': all_weather_df['total_value'], \n",
    "    'Only SPY': only_spy_df['total_value']\n",
    "} \n",
    "  \n",
    "graph_df = pd.DataFrame(frame) \n",
    "graph_df.plot(figsize=(15, 6))"
   ]
  },
  {
   "cell_type": "code",
   "execution_count": null,
   "metadata": {},
   "outputs": [],
   "source": [
    "# Step 4: Test Inputs/Tweak Strategy"
   ]
  },
  {
   "cell_type": "code",
   "execution_count": null,
   "metadata": {},
   "outputs": [],
   "source": [
    "portfolio_2 = [\n",
    "    {\n",
    "        'symbol': 'SPY', # S&P 500\n",
    "        'weight': 0.6\n",
    "    },\n",
    "    {\n",
    "        'symbol': 'TLT', # Long term bonds\n",
    "        'weight': 0.4\n",
    "    },\n",
    "]\n",
    "\n",
    "for asset in portfolio_2:\n",
    "    returns = get_returns_for_asset(asset['symbol'])\n",
    "    asset['returns'] = returns\n",
    "    \n",
    "\n",
    "portfolio_2_df = pd.DataFrame()\n",
    "\n",
    "for asset in portfolio_2:\n",
    "    returns = asset['returns']\n",
    "    for column in returns.columns:\n",
    "        column_name = \"{}_{}\".format(column, asset['symbol'])\n",
    "        print(column_name)\n",
    "        portfolio_2_df[column_name] = returns[column]\n",
    "            \n",
    "        \n",
    "portfolio_2_df = portfolio_2_df.dropna()\n",
    "portfolio_2_df"
   ]
  },
  {
   "cell_type": "code",
   "execution_count": null,
   "metadata": {},
   "outputs": [],
   "source": [
    "portfolio_2_df = portfolio_2_df['2006-10-31':]\n",
    "portfolio_2_df"
   ]
  },
  {
   "cell_type": "code",
   "execution_count": null,
   "metadata": {},
   "outputs": [],
   "source": [
    "portfolio_2_df = get_returns_for_portfolio(portfolio_2, portfolio_2_df)\n",
    "portfolio_2_df"
   ]
  },
  {
   "cell_type": "code",
   "execution_count": null,
   "metadata": {},
   "outputs": [],
   "source": [
    "cagr(portfolio_2_df)"
   ]
  },
  {
   "cell_type": "code",
   "execution_count": null,
   "metadata": {},
   "outputs": [],
   "source": [
    "volatility(portfolio_2_df)"
   ]
  },
  {
   "cell_type": "code",
   "execution_count": null,
   "metadata": {},
   "outputs": [],
   "source": [
    "sharpe(portfolio_2_df, 0.02)"
   ]
  },
  {
   "cell_type": "code",
   "execution_count": null,
   "metadata": {},
   "outputs": [],
   "source": [
    "max_drawdown(portfolio_2_df)"
   ]
  },
  {
   "cell_type": "code",
   "execution_count": null,
   "metadata": {},
   "outputs": [],
   "source": [
    "frame = { \n",
    "    '60/40': portfolio_2_df['total_value'], \n",
    "    'All Weather': all_weather_df['total_value'], \n",
    "    'Only SPY': only_spy_df['total_value']\n",
    "} \n",
    "  \n",
    "graph_df = pd.DataFrame(frame) \n",
    "graph_df.plot(figsize=(15, 6))"
   ]
  },
  {
   "cell_type": "code",
   "execution_count": null,
   "metadata": {},
   "outputs": [],
   "source": []
  }
 ],
 "metadata": {
  "kernelspec": {
   "display_name": "Python 3",
   "language": "python",
   "name": "python3"
  },
  "language_info": {
   "codemirror_mode": {
    "name": "ipython",
    "version": 3
   },
   "file_extension": ".py",
   "mimetype": "text/x-python",
   "name": "python",
   "nbconvert_exporter": "python",
   "pygments_lexer": "ipython3",
   "version": "3.7.5"
  }
 },
 "nbformat": 4,
 "nbformat_minor": 2
}
