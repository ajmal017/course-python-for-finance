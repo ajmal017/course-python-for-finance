{
 "cells": [
  {
   "cell_type": "code",
   "execution_count": null,
   "metadata": {},
   "outputs": [],
   "source": [
    "import pandas as pd\n",
    "import pandas_datareader.data as pdr\n",
    "from datetime import datetime\n",
    "from datetime import date\n",
    "from datetime import timedelta\n",
    "import math\n",
    "import yfinance as yf"
   ]
  },
  {
   "cell_type": "code",
   "execution_count": null,
   "metadata": {},
   "outputs": [],
   "source": [
    "# Step 1: Get and organize data\n",
    "# Step 2: Run algorithm\n",
    "# Step 3: Calculate/Analyze Return vs Benchmark(s)\n",
    "# Step 4: Test Inputs/Tweak Strategy"
   ]
  },
  {
   "cell_type": "code",
   "execution_count": null,
   "metadata": {},
   "outputs": [],
   "source": [
    "def cagr(_df):\n",
    "    df = _df.copy()\n",
    "    df = df.sort_index(ascending=True)\n",
    "    df[\"cum_return\"] = (1 + df[\"return\"]).cumprod()\n",
    "    total_ret = df['cum_return'][-1]\n",
    "    start = datetime.utcfromtimestamp(df.index.values[0].astype('O')/1e9)\n",
    "    end = datetime.utcfromtimestamp(df.index.values[-1].astype('O')/1e9)\n",
    "    period_years = (end - start).days / 365.25\n",
    "    CAGR = (total_ret)**(1/period_years) - 1\n",
    "    return CAGR"
   ]
  },
  {
   "cell_type": "code",
   "execution_count": null,
   "metadata": {},
   "outputs": [],
   "source": [
    "def volatility(_df):\n",
    "    start = datetime.utcfromtimestamp(_df.index.values[0].astype('O')/1e9)\n",
    "    end = datetime.utcfromtimestamp(_df.index.values[-1].astype('O')/1e9)\n",
    "    period_years = (end - start).days / 365.25\n",
    "    ratio_to_annual = _df['return'].count() / period_years\n",
    "    vol = _df[\"return\"].std() * math.sqrt(ratio_to_annual)\n",
    "    return vol"
   ]
  },
  {
   "cell_type": "code",
   "execution_count": null,
   "metadata": {},
   "outputs": [],
   "source": [
    "def sharpe(_df, risk_free_rate):\n",
    "    ret = cagr(_df)\n",
    "    vol = volatility(_df)\n",
    "    sharpe = (ret - risk_free_rate) / vol\n",
    "    return sharpe"
   ]
  },
  {
   "cell_type": "code",
   "execution_count": null,
   "metadata": {},
   "outputs": [],
   "source": [
    "def max_drawdown(_df):\n",
    "    df = _df.copy()\n",
    "    df = df.sort_index(ascending=True)\n",
    "    df[\"cum_return\"] = (1 + df[\"return\"]).cumprod()\n",
    "    df[\"cum_return_max\"] = df[\"cum_return\"].cummax()\n",
    "    df[\"drawdown\"] = df[\"cum_return_max\"] - df[\"cum_return\"]\n",
    "    df[\"drawdown_pct\"] = df[\"drawdown\"] / df[\"cum_return_max\"]\n",
    "    max_dd = df.loc[df[\"drawdown_pct\"].idxmax()]\n",
    "    return {\n",
    "        'drawdown': max_dd['drawdown_pct'],\n",
    "        'date': max_dd.name\n",
    "    }"
   ]
  },
  {
   "cell_type": "code",
   "execution_count": null,
   "metadata": {},
   "outputs": [],
   "source": [
    "# Step 1: Get and organize data\n",
    "\n",
    "sp500_ticker = yf.Ticker('^GSPC')\n",
    "input_df = sp500_ticker.history(period=\"max\")[['Close']]\n",
    "input_df['1 Day Ret'] = input_df['Close'].pct_change()\n",
    "input_df['1 Day Prev Chng'] = input_df['Close'].pct_change().shift(1)\n",
    "input_df['5 Day Prev Chng'] = input_df['Close'].pct_change(5).shift(1)\n",
    "input_df['30 Day Prev Chng'] = input_df['Close'].pct_change(30).shift(1)\n",
    "input_df[:40]"
   ]
  },
  {
   "cell_type": "code",
   "execution_count": null,
   "metadata": {},
   "outputs": [],
   "source": [
    "# Step 2: Run algorithm\n",
    "\n",
    "def my_strategy(_df, gt_5):\n",
    "    df = _df.copy()\n",
    "\n",
    "    for x in df.index:  \n",
    "        row = df.loc[x]\n",
    "        if(row['5 Day Prev Chng'] > gt_5):\n",
    "            df.at[x,'return'] = 0\n",
    "        else:\n",
    "            df.at[x,'return'] = row['1 Day Ret']\n",
    "\n",
    "    return df"
   ]
  },
  {
   "cell_type": "code",
   "execution_count": null,
   "metadata": {},
   "outputs": [],
   "source": [
    "strategy_returns = my_strategy(input_df, 0.08)"
   ]
  },
  {
   "cell_type": "code",
   "execution_count": null,
   "metadata": {},
   "outputs": [],
   "source": [
    "sharpe(strategy_returns, 0.02)"
   ]
  },
  {
   "cell_type": "code",
   "execution_count": null,
   "metadata": {},
   "outputs": [],
   "source": [
    "cagr(strategy_returns)"
   ]
  },
  {
   "cell_type": "code",
   "execution_count": null,
   "metadata": {},
   "outputs": [],
   "source": [
    "max_drawdown(strategy_returns)"
   ]
  },
  {
   "cell_type": "code",
   "execution_count": null,
   "metadata": {},
   "outputs": [],
   "source": [
    "# Step 3: Calculate Benchmark(s)\n",
    "\n",
    "sp500 = sp500_ticker.history(period=\"max\")[['Close']]\n",
    "sp500['return'] = sp500['Close'].pct_change()\n",
    "sharpe(sp500, 0.02)"
   ]
  },
  {
   "cell_type": "code",
   "execution_count": null,
   "metadata": {},
   "outputs": [],
   "source": [
    "cagr(sp500)"
   ]
  },
  {
   "cell_type": "code",
   "execution_count": null,
   "metadata": {},
   "outputs": [],
   "source": [
    "max_drawdown(sp500)"
   ]
  },
  {
   "cell_type": "code",
   "execution_count": null,
   "metadata": {},
   "outputs": [],
   "source": [
    "# Step 4: Test Inputs/Tweak Strategy"
   ]
  },
  {
   "cell_type": "code",
   "execution_count": null,
   "metadata": {},
   "outputs": [],
   "source": [
    "max_result = 0\n",
    "max_result_input = None\n",
    "result_df = pd.DataFrame(columns=('input', 'result'))\n",
    "\n",
    "for x in range(0, 100):\n",
    "    i = x / 500.0 - 0.1\n",
    "    strategy_returns = my_strategy(input_df, i)\n",
    "    result = cagr(strategy_returns)\n",
    "    print(\"input: {:.4f} = {:.4f}\".format(i, result))\n",
    "    result_df.loc[x] = [i, result]\n",
    "    if (result > max_result):\n",
    "        max_result = result\n",
    "        max_result_input = i\n",
    "    \n",
    "print(\"max_result: \", max_result)\n",
    "print(\"max_result_input: \", max_result_input)"
   ]
  },
  {
   "cell_type": "code",
   "execution_count": null,
   "metadata": {},
   "outputs": [],
   "source": [
    "result_df"
   ]
  },
  {
   "cell_type": "code",
   "execution_count": null,
   "metadata": {},
   "outputs": [],
   "source": [
    "result_df = result_df.set_index('input')"
   ]
  },
  {
   "cell_type": "code",
   "execution_count": null,
   "metadata": {},
   "outputs": [],
   "source": [
    "result_df['result'].plot(grid=True)"
   ]
  },
  {
   "cell_type": "code",
   "execution_count": null,
   "metadata": {},
   "outputs": [],
   "source": []
  }
 ],
 "metadata": {
  "kernelspec": {
   "display_name": "Python 3",
   "language": "python",
   "name": "python3"
  },
  "language_info": {
   "codemirror_mode": {
    "name": "ipython",
    "version": 3
   },
   "file_extension": ".py",
   "mimetype": "text/x-python",
   "name": "python",
   "nbconvert_exporter": "python",
   "pygments_lexer": "ipython3",
   "version": "3.7.5"
  }
 },
 "nbformat": 4,
 "nbformat_minor": 2
}
