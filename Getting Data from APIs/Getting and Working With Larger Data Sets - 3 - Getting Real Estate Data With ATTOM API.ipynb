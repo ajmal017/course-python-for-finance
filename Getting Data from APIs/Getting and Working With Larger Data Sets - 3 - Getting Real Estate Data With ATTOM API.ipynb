{
 "cells": [
  {
   "cell_type": "code",
   "execution_count": null,
   "metadata": {},
   "outputs": [],
   "source": [
    "import requests"
   ]
  },
  {
   "cell_type": "code",
   "execution_count": null,
   "metadata": {},
   "outputs": [],
   "source": [
    "r = requests.get('https://www.google.com')\n",
    "r.content"
   ]
  },
  {
   "cell_type": "code",
   "execution_count": null,
   "metadata": {},
   "outputs": [],
   "source": [
    "url = 'https://samples.openweathermap.org/data/2.5/weather?q=London,uk&appid=b6907d289e10d714a6e88b30761fae22'\n",
    "r = requests.get(url)"
   ]
  },
  {
   "cell_type": "code",
   "execution_count": null,
   "metadata": {},
   "outputs": [],
   "source": [
    "r.text"
   ]
  },
  {
   "cell_type": "code",
   "execution_count": null,
   "metadata": {},
   "outputs": [],
   "source": [
    "weather = r.json()\n",
    "weather"
   ]
  },
  {
   "cell_type": "code",
   "execution_count": null,
   "metadata": {},
   "outputs": [],
   "source": [
    "weather['weather']"
   ]
  },
  {
   "cell_type": "code",
   "execution_count": null,
   "metadata": {},
   "outputs": [],
   "source": [
    "weather['weather'][0]"
   ]
  },
  {
   "cell_type": "code",
   "execution_count": null,
   "metadata": {},
   "outputs": [],
   "source": [
    "weather['weather'][0]['description']"
   ]
  },
  {
   "cell_type": "code",
   "execution_count": null,
   "metadata": {},
   "outputs": [],
   "source": [
    "api_key = '19ce16fc754aa52681ce41f2de654b29'\n",
    "api_url_prefix = 'https://api.gateway.attomdata.com/propertyapi/v1.0.0/'"
   ]
  },
  {
   "cell_type": "code",
   "execution_count": null,
   "metadata": {},
   "outputs": [],
   "source": [
    "headers = {\n",
    "    'Accept': 'application/json',\n",
    "    'apikey': api_key\n",
    "}"
   ]
  },
  {
   "cell_type": "code",
   "execution_count": null,
   "metadata": {},
   "outputs": [],
   "source": [
    "params = {\n",
    "    'address1': '115 Mulberry Street', \n",
    "    'address2': 'New York, NY'\n",
    "}\n",
    "url = \"{}saleshistory/detail\".format(api_url_prefix)\n",
    "url"
   ]
  },
  {
   "cell_type": "code",
   "execution_count": null,
   "metadata": {},
   "outputs": [],
   "source": [
    "r = requests.get(url, params=params, headers=headers)"
   ]
  },
  {
   "cell_type": "code",
   "execution_count": null,
   "metadata": {},
   "outputs": [],
   "source": [
    "r.text"
   ]
  },
  {
   "cell_type": "code",
   "execution_count": null,
   "metadata": {},
   "outputs": [],
   "source": [
    "property_sales_data = r.json()"
   ]
  },
  {
   "cell_type": "code",
   "execution_count": null,
   "metadata": {},
   "outputs": [],
   "source": [
    "property_sales_data"
   ]
  },
  {
   "cell_type": "code",
   "execution_count": null,
   "metadata": {},
   "outputs": [],
   "source": [
    "sale_history = property_sales_data['property'][0]['salehistory']\n",
    "sale_history"
   ]
  },
  {
   "cell_type": "code",
   "execution_count": null,
   "metadata": {},
   "outputs": [],
   "source": [
    "for sale in sale_history:\n",
    "    if 'saleTransDate' in sale and 'amount' in sale and 'saleamt' in sale['amount']:\n",
    "        formatted_text = \"{} sold for {}\".format(sale['saleTransDate'], sale['amount']['saleamt'])\n",
    "        print(formatted_text)"
   ]
  },
  {
   "cell_type": "code",
   "execution_count": null,
   "metadata": {},
   "outputs": [],
   "source": [
    "params = {\n",
    "    'postalcode': '90210', \n",
    "    'page': 1,\n",
    "    'pagesize': 100\n",
    "}\n",
    "url = \"{}property/address\".format(api_url_prefix)\n",
    "url"
   ]
  },
  {
   "cell_type": "code",
   "execution_count": null,
   "metadata": {},
   "outputs": [],
   "source": [
    "r = requests.get(url, params=params, headers=headers)\n",
    "\n",
    "properties_in_zip = r.json()"
   ]
  },
  {
   "cell_type": "code",
   "execution_count": null,
   "metadata": {},
   "outputs": [],
   "source": [
    "properties_in_zip"
   ]
  },
  {
   "cell_type": "code",
   "execution_count": null,
   "metadata": {},
   "outputs": [],
   "source": [
    "properties = properties_in_zip['property']\n",
    "for prop in properties:\n",
    "    print(prop['address']['oneLine'])"
   ]
  },
  {
   "cell_type": "code",
   "execution_count": null,
   "metadata": {},
   "outputs": [],
   "source": [
    "import pandas as pd\n",
    "\n",
    "\n",
    "properties = properties_in_zip['property']\n",
    "data = []\n",
    "for prop in properties:\n",
    "    row = {}\n",
    "    row['Address'] = prop['address']['line1']\n",
    "    row['City'] = prop['address']['locality']\n",
    "    row['Zip'] = prop['address']['postal1']\n",
    "    row['Lat'] = prop['location']['latitude']\n",
    "    row['Long'] = prop['location']['longitude']\n",
    "    data.append(row)\n",
    "    \n",
    "data"
   ]
  },
  {
   "cell_type": "code",
   "execution_count": null,
   "metadata": {},
   "outputs": [],
   "source": [
    "df = pd.DataFrame.from_dict(data)\n",
    "df"
   ]
  },
  {
   "cell_type": "code",
   "execution_count": null,
   "metadata": {},
   "outputs": [],
   "source": [
    "url = \"{}property/address\".format(api_url_prefix)\n",
    "\n",
    "def get_all_properties_in_zip(zipcode, page_size = 100):\n",
    "    data = []\n",
    "    properties_downloaded = 0 \n",
    "    total_properties = None\n",
    "    \n",
    "    params = {\n",
    "        'postalcode': zipcode,\n",
    "        'page': 1,\n",
    "        'pagesize': page_size\n",
    "    }\n",
    "        \n",
    "    page = 1\n",
    "    while total_properties is None or properties_downloaded < total_properties:\n",
    "        r = requests.get(url, params=params, headers=headers)\n",
    "        properties_in_zip = r.json()\n",
    "        properties = properties_in_zip['property']\n",
    "        total_properties = properties_in_zip['status']['total']\n",
    "\n",
    "        for prop in properties:\n",
    "            row = {}\n",
    "            row['Address'] = prop['address']['line1']\n",
    "            row['City'] = prop['address']['locality']\n",
    "            row['Zip'] = prop['address']['postal1']\n",
    "            row['Lat'] = prop['location']['latitude']\n",
    "            row['Long'] = prop['location']['longitude']\n",
    "            data.append(row)\n",
    "            \n",
    "        properties_downloaded = properties_downloaded + page_size\n",
    "        params['page'] = params['page'] + 1\n",
    "        print('Got {} properties out of {} total'.format(properties_downloaded, total_properties))\n",
    "        \n",
    "    df = pd.DataFrame.from_dict(data)\n",
    "    return df\n",
    "    "
   ]
  },
  {
   "cell_type": "code",
   "execution_count": null,
   "metadata": {},
   "outputs": [],
   "source": [
    "df = get_all_properties_in_zip(90210)\n",
    "df"
   ]
  },
  {
   "cell_type": "code",
   "execution_count": null,
   "metadata": {},
   "outputs": [],
   "source": []
  }
 ],
 "metadata": {
  "kernelspec": {
   "display_name": "Python 3",
   "language": "python",
   "name": "python3"
  },
  "language_info": {
   "codemirror_mode": {
    "name": "ipython",
    "version": 3
   },
   "file_extension": ".py",
   "mimetype": "text/x-python",
   "name": "python",
   "nbconvert_exporter": "python",
   "pygments_lexer": "ipython3",
   "version": "3.7.3"
  }
 },
 "nbformat": 4,
 "nbformat_minor": 2
}
